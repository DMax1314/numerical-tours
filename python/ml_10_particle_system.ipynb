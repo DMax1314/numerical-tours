{
  "nbformat": 4,
  "nbformat_minor": 0,
  "metadata": {
    "colab": {
      "name": "Particle Systems",
      "provenance": [],
      "collapsed_sections": []
    },
    "kernelspec": {
      "display_name": "Python 3",
      "name": "python3"
    },
    "language_info": {
      "name": "python"
    },
    "widgets": {
      "application/vnd.jupyter.widget-state+json": {
        "043c043fc6c74104b24d271a4ca96f19": {
          "model_module": "@jupyter-widgets/controls",
          "model_name": "VBoxModel",
          "state": {
            "_view_name": "VBoxView",
            "_dom_classes": [
              "widget-interact"
            ],
            "_model_name": "VBoxModel",
            "_view_module": "@jupyter-widgets/controls",
            "_model_module_version": "1.5.0",
            "_view_count": null,
            "_view_module_version": "1.5.0",
            "box_style": "",
            "layout": "IPY_MODEL_eead8134b51f4408b60e67bd1ed4a6bd",
            "_model_module": "@jupyter-widgets/controls",
            "children": [
              "IPY_MODEL_23bf5d30ef804ff6a0744898ae3d32e5",
              "IPY_MODEL_81feb319e69d431fbf9af49ba5a26ed0"
            ]
          }
        },
        "eead8134b51f4408b60e67bd1ed4a6bd": {
          "model_module": "@jupyter-widgets/base",
          "model_name": "LayoutModel",
          "state": {
            "_view_name": "LayoutView",
            "grid_template_rows": null,
            "right": null,
            "justify_content": null,
            "_view_module": "@jupyter-widgets/base",
            "overflow": null,
            "_model_module_version": "1.2.0",
            "_view_count": null,
            "flex_flow": null,
            "width": null,
            "min_width": null,
            "border": null,
            "align_items": null,
            "bottom": null,
            "_model_module": "@jupyter-widgets/base",
            "top": null,
            "grid_column": null,
            "overflow_y": null,
            "overflow_x": null,
            "grid_auto_flow": null,
            "grid_area": null,
            "grid_template_columns": null,
            "flex": null,
            "_model_name": "LayoutModel",
            "justify_items": null,
            "grid_row": null,
            "max_height": null,
            "align_content": null,
            "visibility": null,
            "align_self": null,
            "height": null,
            "min_height": null,
            "padding": null,
            "grid_auto_rows": null,
            "grid_gap": null,
            "max_width": null,
            "order": null,
            "_view_module_version": "1.2.0",
            "grid_template_areas": null,
            "object_position": null,
            "object_fit": null,
            "grid_auto_columns": null,
            "margin": null,
            "display": null,
            "left": null
          }
        },
        "23bf5d30ef804ff6a0744898ae3d32e5": {
          "model_module": "@jupyter-widgets/controls",
          "model_name": "IntSliderModel",
          "state": {
            "_view_name": "IntSliderView",
            "style": "IPY_MODEL_51a38fe3e1794d1e9ca4e22c9122650f",
            "_dom_classes": [],
            "description": "t",
            "step": 1,
            "_model_name": "IntSliderModel",
            "orientation": "horizontal",
            "max": 19,
            "_view_module": "@jupyter-widgets/controls",
            "_model_module_version": "1.5.0",
            "value": 17,
            "_view_count": null,
            "disabled": false,
            "_view_module_version": "1.5.0",
            "min": 0,
            "continuous_update": true,
            "readout_format": "d",
            "description_tooltip": null,
            "readout": true,
            "_model_module": "@jupyter-widgets/controls",
            "layout": "IPY_MODEL_dc746c24077547cdab76a1e92eb5f357"
          }
        },
        "81feb319e69d431fbf9af49ba5a26ed0": {
          "model_module": "@jupyter-widgets/output",
          "model_name": "OutputModel",
          "state": {
            "_view_name": "OutputView",
            "msg_id": "",
            "_dom_classes": [],
            "_model_name": "OutputModel",
            "outputs": [
              {
                "output_type": "display_data",
                "metadata": {
                  "tags": [],
                  "needs_background": "light"
                },
                "image/png": "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\n",
                "text/plain": "<Figure size 432x288 with 1 Axes>"
              }
            ],
            "_view_module": "@jupyter-widgets/output",
            "_model_module_version": "1.0.0",
            "_view_count": null,
            "_view_module_version": "1.0.0",
            "layout": "IPY_MODEL_b5a1c16a63f74fd5815e01cfc173ef3d",
            "_model_module": "@jupyter-widgets/output"
          }
        },
        "51a38fe3e1794d1e9ca4e22c9122650f": {
          "model_module": "@jupyter-widgets/controls",
          "model_name": "SliderStyleModel",
          "state": {
            "_view_name": "StyleView",
            "handle_color": null,
            "_model_name": "SliderStyleModel",
            "description_width": "",
            "_view_module": "@jupyter-widgets/base",
            "_model_module_version": "1.5.0",
            "_view_count": null,
            "_view_module_version": "1.2.0",
            "_model_module": "@jupyter-widgets/controls"
          }
        },
        "dc746c24077547cdab76a1e92eb5f357": {
          "model_module": "@jupyter-widgets/base",
          "model_name": "LayoutModel",
          "state": {
            "_view_name": "LayoutView",
            "grid_template_rows": null,
            "right": null,
            "justify_content": null,
            "_view_module": "@jupyter-widgets/base",
            "overflow": null,
            "_model_module_version": "1.2.0",
            "_view_count": null,
            "flex_flow": null,
            "width": null,
            "min_width": null,
            "border": null,
            "align_items": null,
            "bottom": null,
            "_model_module": "@jupyter-widgets/base",
            "top": null,
            "grid_column": null,
            "overflow_y": null,
            "overflow_x": null,
            "grid_auto_flow": null,
            "grid_area": null,
            "grid_template_columns": null,
            "flex": null,
            "_model_name": "LayoutModel",
            "justify_items": null,
            "grid_row": null,
            "max_height": null,
            "align_content": null,
            "visibility": null,
            "align_self": null,
            "height": null,
            "min_height": null,
            "padding": null,
            "grid_auto_rows": null,
            "grid_gap": null,
            "max_width": null,
            "order": null,
            "_view_module_version": "1.2.0",
            "grid_template_areas": null,
            "object_position": null,
            "object_fit": null,
            "grid_auto_columns": null,
            "margin": null,
            "display": null,
            "left": null
          }
        },
        "b5a1c16a63f74fd5815e01cfc173ef3d": {
          "model_module": "@jupyter-widgets/base",
          "model_name": "LayoutModel",
          "state": {
            "_view_name": "LayoutView",
            "grid_template_rows": null,
            "right": null,
            "justify_content": null,
            "_view_module": "@jupyter-widgets/base",
            "overflow": null,
            "_model_module_version": "1.2.0",
            "_view_count": null,
            "flex_flow": null,
            "width": null,
            "min_width": null,
            "border": null,
            "align_items": null,
            "bottom": null,
            "_model_module": "@jupyter-widgets/base",
            "top": null,
            "grid_column": null,
            "overflow_y": null,
            "overflow_x": null,
            "grid_auto_flow": null,
            "grid_area": null,
            "grid_template_columns": null,
            "flex": null,
            "_model_name": "LayoutModel",
            "justify_items": null,
            "grid_row": null,
            "max_height": null,
            "align_content": null,
            "visibility": null,
            "align_self": null,
            "height": null,
            "min_height": null,
            "padding": null,
            "grid_auto_rows": null,
            "grid_gap": null,
            "max_width": null,
            "order": null,
            "_view_module_version": "1.2.0",
            "grid_template_areas": null,
            "object_position": null,
            "object_fit": null,
            "grid_auto_columns": null,
            "margin": null,
            "display": null,
            "left": null
          }
        },
        "b04ed9df918c425abc496d4e38d0f369": {
          "model_module": "@jupyter-widgets/controls",
          "model_name": "VBoxModel",
          "state": {
            "_view_name": "VBoxView",
            "_dom_classes": [
              "widget-interact"
            ],
            "_model_name": "VBoxModel",
            "_view_module": "@jupyter-widgets/controls",
            "_model_module_version": "1.5.0",
            "_view_count": null,
            "_view_module_version": "1.5.0",
            "box_style": "",
            "layout": "IPY_MODEL_f9ff7869c87b488c837f16c6bad2c934",
            "_model_module": "@jupyter-widgets/controls",
            "children": [
              "IPY_MODEL_b8b95c0bc59d48e28080cfef21730afd",
              "IPY_MODEL_fb7026d7a603474b8f5641fb57511f12"
            ]
          }
        },
        "f9ff7869c87b488c837f16c6bad2c934": {
          "model_module": "@jupyter-widgets/base",
          "model_name": "LayoutModel",
          "state": {
            "_view_name": "LayoutView",
            "grid_template_rows": null,
            "right": null,
            "justify_content": null,
            "_view_module": "@jupyter-widgets/base",
            "overflow": null,
            "_model_module_version": "1.2.0",
            "_view_count": null,
            "flex_flow": null,
            "width": null,
            "min_width": null,
            "border": null,
            "align_items": null,
            "bottom": null,
            "_model_module": "@jupyter-widgets/base",
            "top": null,
            "grid_column": null,
            "overflow_y": null,
            "overflow_x": null,
            "grid_auto_flow": null,
            "grid_area": null,
            "grid_template_columns": null,
            "flex": null,
            "_model_name": "LayoutModel",
            "justify_items": null,
            "grid_row": null,
            "max_height": null,
            "align_content": null,
            "visibility": null,
            "align_self": null,
            "height": null,
            "min_height": null,
            "padding": null,
            "grid_auto_rows": null,
            "grid_gap": null,
            "max_width": null,
            "order": null,
            "_view_module_version": "1.2.0",
            "grid_template_areas": null,
            "object_position": null,
            "object_fit": null,
            "grid_auto_columns": null,
            "margin": null,
            "display": null,
            "left": null
          }
        },
        "b8b95c0bc59d48e28080cfef21730afd": {
          "model_module": "@jupyter-widgets/controls",
          "model_name": "IntSliderModel",
          "state": {
            "_view_name": "IntSliderView",
            "style": "IPY_MODEL_683bc12b54744ad59a3f4de24d727b79",
            "_dom_classes": [],
            "description": "t",
            "step": 1,
            "_model_name": "IntSliderModel",
            "orientation": "horizontal",
            "max": 19,
            "_view_module": "@jupyter-widgets/controls",
            "_model_module_version": "1.5.0",
            "value": 0,
            "_view_count": null,
            "disabled": false,
            "_view_module_version": "1.5.0",
            "min": 0,
            "continuous_update": true,
            "readout_format": "d",
            "description_tooltip": null,
            "readout": true,
            "_model_module": "@jupyter-widgets/controls",
            "layout": "IPY_MODEL_b251762248fd471d9121fbea5673352a"
          }
        },
        "fb7026d7a603474b8f5641fb57511f12": {
          "model_module": "@jupyter-widgets/output",
          "model_name": "OutputModel",
          "state": {
            "_view_name": "OutputView",
            "msg_id": "",
            "_dom_classes": [],
            "_model_name": "OutputModel",
            "outputs": [
              {
                "output_type": "display_data",
                "metadata": {
                  "tags": [],
                  "needs_background": "light"
                },
                "image/png": "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\n",
                "text/plain": "<Figure size 432x288 with 1 Axes>"
              }
            ],
            "_view_module": "@jupyter-widgets/output",
            "_model_module_version": "1.0.0",
            "_view_count": null,
            "_view_module_version": "1.0.0",
            "layout": "IPY_MODEL_ff925a65b6d04042b8f376be1741014c",
            "_model_module": "@jupyter-widgets/output"
          }
        },
        "683bc12b54744ad59a3f4de24d727b79": {
          "model_module": "@jupyter-widgets/controls",
          "model_name": "SliderStyleModel",
          "state": {
            "_view_name": "StyleView",
            "handle_color": null,
            "_model_name": "SliderStyleModel",
            "description_width": "",
            "_view_module": "@jupyter-widgets/base",
            "_model_module_version": "1.5.0",
            "_view_count": null,
            "_view_module_version": "1.2.0",
            "_model_module": "@jupyter-widgets/controls"
          }
        },
        "b251762248fd471d9121fbea5673352a": {
          "model_module": "@jupyter-widgets/base",
          "model_name": "LayoutModel",
          "state": {
            "_view_name": "LayoutView",
            "grid_template_rows": null,
            "right": null,
            "justify_content": null,
            "_view_module": "@jupyter-widgets/base",
            "overflow": null,
            "_model_module_version": "1.2.0",
            "_view_count": null,
            "flex_flow": null,
            "width": null,
            "min_width": null,
            "border": null,
            "align_items": null,
            "bottom": null,
            "_model_module": "@jupyter-widgets/base",
            "top": null,
            "grid_column": null,
            "overflow_y": null,
            "overflow_x": null,
            "grid_auto_flow": null,
            "grid_area": null,
            "grid_template_columns": null,
            "flex": null,
            "_model_name": "LayoutModel",
            "justify_items": null,
            "grid_row": null,
            "max_height": null,
            "align_content": null,
            "visibility": null,
            "align_self": null,
            "height": null,
            "min_height": null,
            "padding": null,
            "grid_auto_rows": null,
            "grid_gap": null,
            "max_width": null,
            "order": null,
            "_view_module_version": "1.2.0",
            "grid_template_areas": null,
            "object_position": null,
            "object_fit": null,
            "grid_auto_columns": null,
            "margin": null,
            "display": null,
            "left": null
          }
        },
        "ff925a65b6d04042b8f376be1741014c": {
          "model_module": "@jupyter-widgets/base",
          "model_name": "LayoutModel",
          "state": {
            "_view_name": "LayoutView",
            "grid_template_rows": null,
            "right": null,
            "justify_content": null,
            "_view_module": "@jupyter-widgets/base",
            "overflow": null,
            "_model_module_version": "1.2.0",
            "_view_count": null,
            "flex_flow": null,
            "width": null,
            "min_width": null,
            "border": null,
            "align_items": null,
            "bottom": null,
            "_model_module": "@jupyter-widgets/base",
            "top": null,
            "grid_column": null,
            "overflow_y": null,
            "overflow_x": null,
            "grid_auto_flow": null,
            "grid_area": null,
            "grid_template_columns": null,
            "flex": null,
            "_model_name": "LayoutModel",
            "justify_items": null,
            "grid_row": null,
            "max_height": null,
            "align_content": null,
            "visibility": null,
            "align_self": null,
            "height": null,
            "min_height": null,
            "padding": null,
            "grid_auto_rows": null,
            "grid_gap": null,
            "max_width": null,
            "order": null,
            "_view_module_version": "1.2.0",
            "grid_template_areas": null,
            "object_position": null,
            "object_fit": null,
            "grid_auto_columns": null,
            "margin": null,
            "display": null,
            "left": null
          }
        }
      }
    },
    "accelerator": "GPU"
  },
  "cells": [
    {
      "cell_type": "markdown",
      "metadata": {
        "id": "C9UDWHVz7Cnf"
      },
      "source": [
        "# Particle system simulation and fitting\n",
        "\n",
        "This tours shows how to use [PyTorch](https://pytorch.org/) and [Keops](https://www.kernel-operations.io/keops/index.html) to compute the evolution of a particles system with a simple interaction energy. "
      ]
    },
    {
      "cell_type": "code",
      "metadata": {
        "id": "aJNoYic02Cg_"
      },
      "source": [
        "import numpy as np\n",
        "import matplotlib.pyplot as plt\n",
        "import torch\n",
        "import torch.nn as nn\n",
        "import torch.nn.functional as F\n",
        "import torch.optim as optim\n",
        "from time import time\n",
        "import progressbar"
      ],
      "execution_count": null,
      "outputs": []
    },
    {
      "cell_type": "markdown",
      "metadata": {
        "id": "u1ofi5ng2nPB"
      },
      "source": [
        "Check if cuda is available (be sure to go to the parameter of the notebook to activate GPU)"
      ]
    },
    {
      "cell_type": "code",
      "metadata": {
        "colab": {
          "base_uri": "https://localhost:8080/"
        },
        "id": "HLmCgwm-2kkL",
        "outputId": "ad2b0193-b71b-4b4e-9acc-65a33ef9149e"
      },
      "source": [
        "device = torch.device(\"cuda\" if torch.cuda.is_available() else \"cpu\")\n",
        "print(device)"
      ],
      "execution_count": null,
      "outputs": [
        {
          "output_type": "stream",
          "text": [
            "cuda\n"
          ],
          "name": "stdout"
        }
      ]
    },
    {
      "cell_type": "markdown",
      "metadata": {
        "id": "Oh1WY5ttkR9g"
      },
      "source": [
        "Draw random particles."
      ]
    },
    {
      "cell_type": "code",
      "metadata": {
        "colab": {
          "base_uri": "https://localhost:8080/"
        },
        "id": "CGKSujUO2w8X",
        "outputId": "aa47d4f4-dec1-424b-dd7e-68ce5e7627a4"
      },
      "source": [
        "n = 10000 # number of points\n",
        "m = 10100 # number of points on the second cloud\n",
        "d = 2 # dimension\n",
        "X = torch.rand(n,d)\n",
        "Y = torch.rand(m,d)\n",
        "print( X.is_cuda )\n",
        "X = X.to(device); # put it on gpu\n",
        "Y = Y.to(device); # put it on gpu\n",
        "print( X.is_cuda )"
      ],
      "execution_count": null,
      "outputs": [
        {
          "output_type": "stream",
          "text": [
            "False\n",
            "True\n"
          ],
          "name": "stdout"
        }
      ]
    },
    {
      "cell_type": "markdown",
      "metadata": {
        "id": "e5f6IgJp04gn"
      },
      "source": [
        "Handling boundary conditions."
      ]
    },
    {
      "cell_type": "code",
      "metadata": {
        "colab": {
          "base_uri": "https://localhost:8080/",
          "height": 302
        },
        "id": "gBG00zg003qq",
        "outputId": "f1a8069b-af80-4453-ec6b-d17977916a19"
      },
      "source": [
        "boundary = 'no' # no boundary condition\n",
        "boundary = 'per' # periodic \n",
        "if boundary=='no': # change this for usual BC\n",
        "  print('No boundary.')\n",
        "  def bc_pos(X): return X\n",
        "  def bc_diff(D): return D\n",
        "else:\n",
        "  print('Periodic boundary.')\n",
        "  def bc_pos(X): return torch.remainder(X,1.0)\n",
        "  def bc_diff(D): return torch.remainder(D-.5,1.0)-.5\n",
        "\n",
        "t = torch.tensor(np.linspace(-1.5,1.5,1000))\n",
        "plt.plot( t, bc_pos( t ) )\n",
        "plt.plot( t, bc_diff( t ), '--' )"
      ],
      "execution_count": null,
      "outputs": [
        {
          "output_type": "stream",
          "text": [
            "Periodic boundary.\n"
          ],
          "name": "stdout"
        },
        {
          "output_type": "execute_result",
          "data": {
            "text/plain": [
              "[<matplotlib.lines.Line2D at 0x7fef5f56e110>]"
            ]
          },
          "metadata": {
            "tags": []
          },
          "execution_count": 5
        },
        {
          "output_type": "display_data",
          "data": {
            "image/png": "[encoded data removed]",
            "text/plain": [
              "<Figure size 432x288 with 1 Axes>"
            ]
          },
          "metadata": {
            "tags": [],
            "needs_background": "light"
          }
        }
      ]
    },
    {
      "cell_type": "markdown",
      "metadata": {
        "id": "mgiD8_ci3mzG"
      },
      "source": [
        "Example of how to compute a pairwise distance matrix\n",
        "$$\n",
        "  D_{i,j} = \\|x_i-y_j\\|^2\n",
        "$$\n",
        "efficiently using the `None` keyword."
      ]
    },
    {
      "cell_type": "code",
      "metadata": {
        "id": "_abJlmdr29Ql"
      },
      "source": [
        "def distmat_square(X,Y):\n",
        "  return torch.sum( bc_diff(X[:,None,:] - Y[None,:,:])**2, axis=2 )"
      ],
      "execution_count": null,
      "outputs": []
    },
    {
      "cell_type": "code",
      "metadata": {
        "colab": {
          "base_uri": "https://localhost:8080/",
          "height": 287
        },
        "id": "wWJaya0J2vbv",
        "outputId": "aeb4e2e7-aab2-43e4-cfe1-c45a35f839e5"
      },
      "source": [
        "plt.imshow( distmat_square(t[:,None],t[:,None]) )"
      ],
      "execution_count": null,
      "outputs": [
        {
          "output_type": "execute_result",
          "data": {
            "text/plain": [
              "<matplotlib.image.AxesImage at 0x7fef5f04f8d0>"
            ]
          },
          "metadata": {
            "tags": []
          },
          "execution_count": 7
        },
        {
          "output_type": "display_data",
          "data": {
            "image/png": "[encoded data removed]",
            "text/plain": [
              "<Figure size 432x288 with 1 Axes>"
            ]
          },
          "metadata": {
            "tags": [],
            "needs_background": "light"
          }
        }
      ]
    },
    {
      "cell_type": "markdown",
      "metadata": {
        "id": "2G4vkyh8z7_0"
      },
      "source": [
        "A more memory efficient way (specially in high dimension $d$) way to compute the distance by expanding the squares."
      ]
    },
    {
      "cell_type": "code",
      "metadata": {
        "id": "3F7QiKf0zeo2"
      },
      "source": [
        "def distmat_square2(X, Y):\n",
        "  X_sq = (X ** 2).sum(axis=-1)\n",
        "  Y_sq = (Y ** 2).sum(axis=-1)\n",
        "  cross_term = X.matmul(Y.T)\n",
        "  return X_sq[:, None] + Y_sq[None, :] - 2 * cross_term"
      ],
      "execution_count": null,
      "outputs": []
    },
    {
      "cell_type": "code",
      "metadata": {
        "colab": {
          "base_uri": "https://localhost:8080/"
        },
        "id": "LiWlq3PtP1e9",
        "outputId": "664d0790-b6ee-490c-e14d-ef09592b0eec"
      },
      "source": [
        "t0 = time()\n",
        "distmat_square(X, Y)\n",
        "print(time() - t0)\n",
        "\n",
        "t0 = time()\n",
        "distmat_square2(X, Y)\n",
        "print(time() - t0)"
      ],
      "execution_count": null,
      "outputs": [
        {
          "output_type": "stream",
          "text": [
            "0.03390192985534668\n",
            "0.10188770294189453\n"
          ],
          "name": "stdout"
        }
      ]
    },
    {
      "cell_type": "markdown",
      "metadata": {
        "id": "dBoeQ8xT3VrZ"
      },
      "source": [
        "# Maximum Mean Discrepencies"
      ]
    },
    {
      "cell_type": "markdown",
      "metadata": {
        "id": "h-m3t5it57Ds"
      },
      "source": [
        "When training ML model with point clouds, it is important to be able to compare to pair of clouds. A simple loss function is to use an MMD norm\n",
        "$$\n",
        "    \\text{MMD}(X,Y) \\triangleq\n",
        "    \\frac{1}{n^2} \\sum_{i,i'} k(x_i,x_{i'}) \n",
        "    +\n",
        "    \\frac{1}{m^2} \\sum_{j,j'} k(y_j,y_{j'})\n",
        "    -2\n",
        "    \\frac{1}{nm} \\sum_{i,j} k(x_i,y_{j}).\n",
        "$$\n",
        "We use here the energy distance kernel, so that MMD$(X,Y)$ is a dual Sobolev norm between the discrete measure $\\frac{1}{n}\\sum_i \\delta_{x_i}$ and $\\frac{1}{m}\\sum_i \\delta_{y_j}$\n",
        "$$\n",
        "  k(x,y) = -\\|x-y\\|.\n",
        "$$"
      ]
    },
    {
      "cell_type": "code",
      "metadata": {
        "id": "_oQaky5t55zK"
      },
      "source": [
        "def kernel(X,Y):\n",
        "  return -torch.sqrt( distmat_square(X,Y) )\n",
        "\n",
        "def MMD(X,Y):\n",
        "  n = X.shape[0]\n",
        "  m = Y.shape[0]\n",
        "  a = torch.sum( kernel(X,X) )/n**2 + \\\n",
        "      torch.sum( kernel(Y,Y) )/m**2 - \\\n",
        "      2*torch.sum( kernel(X,Y) )/(n*m)\n",
        "  return a.item()"
      ],
      "execution_count": null,
      "outputs": []
    },
    {
      "cell_type": "code",
      "metadata": {
        "colab": {
          "base_uri": "https://localhost:8080/"
        },
        "id": "qxnErW9v6oMr",
        "outputId": "5974da1d-399b-42fb-ff00-c8f2242468d5"
      },
      "source": [
        "print( MMD(X,X) ) # should be 0\n",
        "print( MMD(X,Y) ) # should be >0"
      ],
      "execution_count": null,
      "outputs": [
        {
          "output_type": "stream",
          "text": [
            "0.0\n",
            "7.224082946777344e-05\n"
          ],
          "name": "stdout"
        }
      ]
    },
    {
      "cell_type": "markdown",
      "metadata": {
        "id": "CihPkBXe3blG"
      },
      "source": [
        "# Gradient flow with Pytorch"
      ]
    },
    {
      "cell_type": "markdown",
      "metadata": {
        "id": "m16xCozj4I1s"
      },
      "source": [
        "We compute a speed vector field to advances the particlesusing an interaction kernel of the form\n",
        "$$\n",
        "  v(X)_i = \\frac{1}{n} \\sum_j \\psi(\\|x_i-x_j\\|^2) (x_j-x_i)\n",
        "$$\n",
        "Note that the evolution\n",
        "$$\n",
        "  \\dot X = -v(X)\n",
        "$$\n",
        "is the Wasserstein gradient flow of the energy\n",
        "$$\n",
        "  \\sum_{i,j} \\phi(\\|x_i-y_j\\|^2 ).\n",
        "$$\n",
        "when defining $\\psi(r)=4\\phi'(r)$.\n",
        "\n",
        "If $\\phi$ is decreasing (resp. increasing), the flow is repulsive (resp. attractive)."
      ]
    },
    {
      "cell_type": "code",
      "metadata": {
        "id": "P37QnQCe4H-e"
      },
      "source": [
        "sigma = .1;\n",
        "def psi(r):\n",
        "  return torch.exp( -r/(2*sigma**2) )"
      ],
      "execution_count": null,
      "outputs": []
    },
    {
      "cell_type": "code",
      "metadata": {
        "id": "neZBQfE53EqM"
      },
      "source": [
        "def Speed(X):\n",
        "  return 2/X.shape[0] * 1/sigma**2 * torch.sum( psi(distmat_square(X,X))[:,:,None] * bc_diff( X[:,None,:] - X[None,:,:] ), axis=1 )"
      ],
      "execution_count": null,
      "outputs": []
    },
    {
      "cell_type": "markdown",
      "metadata": {
        "id": "nsipu8UblUt5"
      },
      "source": [
        "Discretize the evolution $\\dot X = -v(X)$."
      ]
    },
    {
      "cell_type": "code",
      "metadata": {
        "colab": {
          "base_uri": "https://localhost:8080/"
        },
        "id": "v69IX-Ov0L9B",
        "outputId": "973b2bea-eab1-4c21-e65c-33cb62ae494d"
      },
      "source": [
        "if boundary=='no':\n",
        "  tau = 1/500 # time step\n",
        "else:\n",
        "  tau = 1/200\n",
        "niter = 200\n",
        "save_per = 10 # periodicity of saving\n",
        "Zsvg = torch.zeros((n,2,niter//save_per)) # to store all the intermediate time\n",
        "Z = X\n",
        "for it in progressbar.progressbar(range(niter)):\n",
        "  if np.mod(it,save_per)==0:\n",
        "    Zsvg[:,:,it//save_per] = Z.clone().detach() # for later display\n",
        "  Z = bc_pos( Z - tau*Speed(Z) )"
      ],
      "execution_count": null,
      "outputs": [
        {
          "output_type": "stream",
          "text": [
            "100% (200 of 200) |######################| Elapsed Time: 0:00:31 Time:  0:00:31\n"
          ],
          "name": "stderr"
        }
      ]
    },
    {
      "cell_type": "markdown",
      "metadata": {
        "id": "S8vh1YvTlaB0"
      },
      "source": [
        "Display the evolution."
      ]
    },
    {
      "cell_type": "code",
      "metadata": {
        "colab": {
          "base_uri": "https://localhost:8080/",
          "height": 301,
          "referenced_widgets": [
            "043c043fc6c74104b24d271a4ca96f19",
            "eead8134b51f4408b60e67bd1ed4a6bd",
            "23bf5d30ef804ff6a0744898ae3d32e5",
            "81feb319e69d431fbf9af49ba5a26ed0",
            "51a38fe3e1794d1e9ca4e22c9122650f",
            "dc746c24077547cdab76a1e92eb5f357",
            "b5a1c16a63f74fd5815e01cfc173ef3d"
          ]
        },
        "id": "Lwvb9cOCgeaA",
        "outputId": "f109eb37-558e-49f3-8d72-4368d6597e64"
      },
      "source": [
        "import ipywidgets as widgets\n",
        "@widgets.interact(t=(0,niter//save_per-1))\n",
        "def display_frame(t=0):\n",
        "  s = t/(niter//save_per-1)\n",
        "  plt.scatter(Zsvg[:,0,t], Zsvg[:,1,t], color=[s,0,1-s])\n",
        "  plt.axis('equal')\n",
        "  plt.axis([0,1,0,1])"
      ],
      "execution_count": null,
      "outputs": [
        {
          "output_type": "display_data",
          "data": {
            "application/vnd.jupyter.widget-view+json": {
              "model_id": "043c043fc6c74104b24d271a4ca96f19",
              "version_minor": 0,
              "version_major": 2
            },
            "text/plain": [
              "interactive(children=(IntSlider(value=0, description='t', max=19), Output()), _dom_classes=('widget-interact',…"
            ]
          },
          "metadata": {
            "tags": []
          }
        }
      ]
    },
    {
      "cell_type": "markdown",
      "metadata": {
        "id": "1-lalpcK3ind"
      },
      "source": [
        "# Computing Gradient with Auto-diff\n",
        "\n",
        "Instead of computing \"by hand\" the gradient of the interaction energy, one can directly rely on Pytorch auto-diff functionality. This simplifies coding and it reduces bugs in code."
      ]
    },
    {
      "cell_type": "code",
      "metadata": {
        "colab": {
          "base_uri": "https://localhost:8080/"
        },
        "id": "akQKlOnh3xpu",
        "outputId": "d168631c-5196-41cf-8e6d-a1f415229eec"
      },
      "source": [
        "X.requires_grad = True\n",
        "L = -1/X.shape[0] * torch.sum( psi(distmat_square(X,X)), axis=(0,1) )\n",
        "[g] = torch.autograd.grad(L, [X])\n",
        "# compare with the \"by hand\" computation\n",
        "print( 'Difference \"hand\" vs. pytorch\" : ' + str( torch.norm( g-Speed(X) ).item()  / torch.norm( g ).item() ) )"
      ],
      "execution_count": null,
      "outputs": [
        {
          "output_type": "stream",
          "text": [
            "Difference \"hand\" vs. pytorch\" : 1.5393619922631306e-07\n"
          ],
          "name": "stdout"
        }
      ]
    },
    {
      "cell_type": "markdown",
      "metadata": {
        "id": "2DVdojtPpSyd"
      },
      "source": [
        "# Computations using Keops\n",
        "\n",
        "In order to speed up (by a factor 10 to 100) the evaluation of the kernel, it is possible to use [Keops](https://www.kernel-operations.io/keops/index.html), which allows one to define \"lazy tensor\". This both reduces the memory footprint (by evaluating the kernel on the fly) and accelerate the computation by a careful mapping of the tensor entries evaluations on the tiles of the GPU."
      ]
    },
    {
      "cell_type": "code",
      "metadata": {
        "id": "D5LIYwHWpVSc"
      },
      "source": [
        "!pip install pykeops[colab] > install.log"
      ],
      "execution_count": null,
      "outputs": []
    },
    {
      "cell_type": "code",
      "metadata": {
        "colab": {
          "base_uri": "https://localhost:8080/"
        },
        "id": "C8iPf7bTpdd9",
        "outputId": "37692d5f-0038-4a3e-a078-5fc4a6fec03d"
      },
      "source": [
        "import pykeops\n",
        "import pykeops.torch as keops\n",
        "pykeops.clean_pykeops()          # just in case old build files are still present\n",
        "pykeops.test_torch_bindings()    # perform the compilation"
      ],
      "execution_count": null,
      "outputs": [
        {
          "output_type": "stream",
          "text": [
            "Cleaning /root/.cache/pykeops-1.5-cpython-37/...\n",
            "[pyKeOps] Initializing build folder for dtype=float32 and lang=torch in /root/.cache/pykeops-1.5-cpython-37 ... done.\n",
            "[pyKeOps] Compiling libKeOpstorch180bebcc11 in /root/.cache/pykeops-1.5-cpython-37:\n",
            "       formula: Sum_Reduction(SqNorm2(x - y),1)\n",
            "       aliases: x = Vi(0,3); y = Vj(1,3); \n",
            "       dtype  : float32\n",
            "... \n",
            "[pyKeOps] Compiling pybind11 template libKeOps_template_574e4b20be in /root/.cache/pykeops-1.5-cpython-37 ... done.\n",
            "Done.\n",
            "\n",
            "pyKeOps with torch bindings is working!\n",
            "\n"
          ],
          "name": "stdout"
        }
      ]
    },
    {
      "cell_type": "markdown",
      "metadata": {
        "id": "YXtRegSD-A8O"
      },
      "source": [
        "Compute the gradient of a kernel interaction."
      ]
    },
    {
      "cell_type": "code",
      "metadata": {
        "colab": {
          "base_uri": "https://localhost:8080/"
        },
        "id": "jN_iunlV4mRZ",
        "outputId": "90030588-b9d4-459c-e2da-9fd3bc520bda"
      },
      "source": [
        "X.requires_grad = True\n",
        "D = keops.Vi(X) - keops.Vj(X)\n",
        "if boundary=='per':\n",
        "  D1 = (D-.5).mod(1.0)-.5 # for periodic BC\n",
        "else: \n",
        "  D1 = D\n",
        "D2 = ( D1 ** 2 ).sum( dim=2 )\n",
        "K = ( -D2 / (2*sigma**2) ).exp()\n",
        "L = -1/X.shape[0] * (K.sum(dim=1)**1).sum()\n",
        "[g] = torch.autograd.grad(L, [X])\n",
        "# compare with the \"by hand\" computation\n",
        "print( 'Difference \"hand\" vs. \"keops+pytorch\" : ' + str( torch.norm( g-Speed(X) ).item()  / torch.norm( g ).item() ) )"
      ],
      "execution_count": null,
      "outputs": [
        {
          "output_type": "stream",
          "text": [
            "[pyKeOps] Compiling libKeOpstorchea57037698 in /root/.cache/pykeops-1.5-cpython-37:\n",
            "       formula: Sum_Reduction(Exp((Minus(Sum(Square((Mod(((Var(0,2,0) - Var(1,2,1)) - Var(2,1,2)), Var(3,1,2), IntCst(0)) - Var(4,1,2))))) / Var(5,1,2))),0)\n",
            "       aliases: Var(0,2,0); Var(1,2,1); Var(2,1,2); Var(3,1,2); Var(4,1,2); Var(5,1,2); \n",
            "       dtype  : float32\n",
            "... \n",
            "Done.\n",
            "[pyKeOps] Compiling libKeOpstorch17a5f3fca7 in /root/.cache/pykeops-1.5-cpython-37:\n",
            "       formula: Grad_WithSavedForward(Sum_Reduction(Exp((Minus(Sum(Square((Mod(((Var(0,2,0) - Var(1,2,1)) - Var(2,1,2)), Var(3,1,2), IntCst(0)) - Var(4,1,2))))) / Var(5,1,2))),0), Var(0,2,0), Var(6,1,0), Var(7,1,0))\n",
            "       aliases: Var(0,2,0); Var(1,2,1); Var(2,1,2); Var(3,1,2); Var(4,1,2); Var(5,1,2); Var(6,1,0); Var(7,1,0); \n",
            "       dtype  : float32\n",
            "... \n",
            "Done.\n",
            "[pyKeOps] Compiling libKeOpstorchfdfa2e7b49 in /root/.cache/pykeops-1.5-cpython-37:\n",
            "       formula: Grad_WithSavedForward(Sum_Reduction(Exp((Minus(Sum(Square((Mod(((Var(0,2,0) - Var(1,2,1)) - Var(2,1,2)), Var(3,1,2), IntCst(0)) - Var(4,1,2))))) / Var(5,1,2))),0), Var(1,2,1), Var(6,1,0), Var(7,1,0))\n",
            "       aliases: Var(0,2,0); Var(1,2,1); Var(2,1,2); Var(3,1,2); Var(4,1,2); Var(5,1,2); Var(6,1,0); Var(7,1,0); \n",
            "       dtype  : float32\n",
            "... \n",
            "Done.\n",
            "Difference \"hand\" vs. \"keops+pytorch\" : 2.98932513978915e-07\n"
          ],
          "name": "stdout"
        }
      ]
    },
    {
      "cell_type": "code",
      "metadata": {
        "id": "7x3ZP-176ONd",
        "colab": {
          "base_uri": "https://localhost:8080/"
        },
        "outputId": "f8981316-1ba1-4209-b05a-0930126a0199"
      },
      "source": [
        "Zsvg = torch.zeros((n,2,niter//save_per)) # to store all the intermediate time\n",
        "Z = X\n",
        "Z.requires_grad = True\n",
        "for it in progressbar.progressbar(range(niter)):\n",
        "  if np.mod(it,save_per)==0:\n",
        "    Zsvg[:,:,it//save_per] = Z.clone().detach() # for later display\n",
        "  D = keops.Vi(Z) - keops.Vj(Z)\n",
        "  if boundary=='per':\n",
        "    D1 = (D-.5).mod(1.0)-.5 # for periodic BC\n",
        "  else: \n",
        "    D1 = D\n",
        "  D2 = ( D1 ** 2 ).sum( dim=2 )\n",
        "  K = ( -D2 / (2*sigma**2) ).exp()\n",
        "  L = 1/X.shape[0] * (K.sum(dim=1)**1).sum() # There is a bug, I needed to add **1 here !!\n",
        "  [g] = torch.autograd.grad(L, [Z])\n",
        "  Z = bc_pos( Z + tau*g )"
      ],
      "execution_count": null,
      "outputs": [
        {
          "output_type": "stream",
          "text": [
            "100% (200 of 200) |######################| Elapsed Time: 0:00:02 Time:  0:00:02\n"
          ],
          "name": "stderr"
        }
      ]
    },
    {
      "cell_type": "code",
      "metadata": {
        "colab": {
          "base_uri": "https://localhost:8080/",
          "height": 301,
          "referenced_widgets": [
            "b04ed9df918c425abc496d4e38d0f369",
            "f9ff7869c87b488c837f16c6bad2c934",
            "b8b95c0bc59d48e28080cfef21730afd",
            "fb7026d7a603474b8f5641fb57511f12",
            "683bc12b54744ad59a3f4de24d727b79",
            "b251762248fd471d9121fbea5673352a",
            "ff925a65b6d04042b8f376be1741014c"
          ]
        },
        "id": "2PtiN6706_GG",
        "outputId": "96981c7c-6c7d-45ac-91f7-d89352349170"
      },
      "source": [
        "import ipywidgets as widgets\n",
        "@widgets.interact(t=(0,niter//save_per-1))\n",
        "def display_frame(t=0):\n",
        "  s = t/(niter//save_per-1)\n",
        "  plt.scatter(Zsvg[:,0,t], Zsvg[:,1,t], color=[s,0,1-s])\n",
        "  plt.axis('equal')\n",
        "  plt.axis([0,1,0,1])"
      ],
      "execution_count": null,
      "outputs": [
        {
          "output_type": "display_data",
          "data": {
            "application/vnd.jupyter.widget-view+json": {
              "model_id": "b04ed9df918c425abc496d4e38d0f369",
              "version_minor": 0,
              "version_major": 2
            },
            "text/plain": [
              "interactive(children=(IntSlider(value=0, description='t', max=19), Output()), _dom_classes=('widget-interact',…"
            ]
          },
          "metadata": {
            "tags": []
          }
        }
      ]
    },
    {
      "cell_type": "code",
      "metadata": {
        "id": "XrEJTQa08tqg"
      },
      "source": [
        ""
      ],
      "execution_count": null,
      "outputs": []
    }
  ]
}